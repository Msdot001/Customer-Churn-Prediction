{
 "cells": [
  {
   "cell_type": "code",
   "execution_count": 1,
   "metadata": {},
   "outputs": [],
   "source": [
    "#Import libraries\n",
    "import streamlit as st\n",
    "import pandas as pd\n",
    "import numpy as np\n",
    "from PIL import Image"
   ]
  },
  {
   "cell_type": "code",
   "execution_count": null,
   "metadata": {},
   "outputs": [],
   "source": [
    "#load the model from disk\n",
    "import joblib\n",
    "model = joblib.load(r\"../Preprocess/model.sav\")\n"
   ]
  },
  {
   "cell_type": "code",
   "execution_count": null,
   "metadata": {},
   "outputs": [],
   "source": [
    "#Import python scripts\n",
    "from preprocessing  import preprocess\n",
    "\n",
    "def main():\n",
    "    #Setting Application title\n",
    "    st.title('Banking Customer Churn Prediction App')\n",
    "\n",
    "      #Setting Application description\n",
    "    st.markdown(\"\"\"\n",
    "     :dart:  This Streamlit app is made to predict customer churn in a financial institution use case.\n",
    "    The application is functional for both online prediction and batch data prediction. \\n\n",
    "    \"\"\")\n",
    "    st.markdown(\"<h3></h3>\", unsafe_allow_html=True)\n",
    "\n",
    "    #Setting Application sidebar default\n",
    "    image = Image.open('Data/App.jpg')\n",
    "    add_selectbox = st.sidebar.selectbox(\n",
    "    \"How would you like to predict?\", (\"Online\", \"Batch\"))\n",
    "    st.sidebar.info('This app is created to predict Customer Churn')\n",
    "    st.sidebar.image(image)\n",
    "\n",
    "    if add_selectbox == \"Online\":\n",
    "        st.info(\"Input data below\")\n",
    "        #Based on our optimal features selection\n",
    "        st.subheader(\"Demographic data\")\n",
    "        Gender = st.selectbox('Gender:', ('M', 'F'))\n",
    "        Customer_Age = st.number_input('Customer_Age:', min_value=0, max_value=73, value=0)\n",
    "        Dependent_count = st.number_input('Dependent_count',min_value=0, max_value=5, value=0)\n",
    "        Education_Level = st.selectbox('Education_Level', ('Unknown', 'Uneducated', 'High School','College','Graduate','Post-Graduate', 'Doctorate'))\n",
    "        Marital_Status = st.selectbox('Marital_Status',('Unknown', 'Single', 'Married', 'Divorced'))\n",
    "        Income_Category = st.selectbox('Income_Category',('Unknown', 'Less than $40K', '$40K - $60K', '$60K - $80K','$80K - $120K', '$120K +'))\n",
    "\n",
    "\n",
    "        st.subheader(\"Product data\")\n",
    "        Card_Category = st.selectbox('Card_Category',())"
   ]
  }
 ],
 "metadata": {
  "kernelspec": {
   "display_name": "Python 3.10.1 ('venv': venv)",
   "language": "python",
   "name": "python3"
  },
  "language_info": {
   "codemirror_mode": {
    "name": "ipython",
    "version": 3
   },
   "file_extension": ".py",
   "mimetype": "text/x-python",
   "name": "python",
   "nbconvert_exporter": "python",
   "pygments_lexer": "ipython3",
   "version": "3.10.1"
  },
  "orig_nbformat": 4,
  "vscode": {
   "interpreter": {
    "hash": "22be7a2ab930353a9743abdc4694e256a42ba072cdf347f681dd64642cd62fc5"
   }
  }
 },
 "nbformat": 4,
 "nbformat_minor": 2
}
