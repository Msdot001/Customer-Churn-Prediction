{
 "cells": [
  {
   "cell_type": "markdown",
   "metadata": {},
   "source": [
    "# Import libraries"
   ]
  },
  {
   "cell_type": "code",
   "execution_count": 23,
   "metadata": {},
   "outputs": [],
   "source": [
    "#Import libraries\n",
    "import numpy as np # linear algebra\n",
    "import pandas as pd # data processing, CSV file I/O (e.g. pd.read_csv)\n",
    "pd.set_option('display.max_columns', None)\n",
    "\n",
    "import plotly.express as px #for visualization\n",
    "import matplotlib.pyplot as plt #for visualization \n",
    "from matplotlib.pyplot import pie, axis, show"
   ]
  },
  {
   "cell_type": "code",
   "execution_count": 3,
   "metadata": {},
   "outputs": [
    {
     "name": "stdout",
     "output_type": "stream",
     "text": [
      "       CLIENTNUM     Attrition_Flag  Customer_Age Gender  Dependent_count  \\\n",
      "0      768805383  Existing Customer            45      M                3   \n",
      "1      818770008  Existing Customer            49      F                5   \n",
      "2      713982108  Existing Customer            51      M                3   \n",
      "3      769911858  Existing Customer            40      F                4   \n",
      "4      709106358  Existing Customer            40      M                3   \n",
      "...          ...                ...           ...    ...              ...   \n",
      "10122  772366833  Existing Customer            50      M                2   \n",
      "10123  710638233  Attrited Customer            41      M                2   \n",
      "10124  716506083  Attrited Customer            44      F                1   \n",
      "10125  717406983  Attrited Customer            30      M                2   \n",
      "10126  714337233  Attrited Customer            43      F                2   \n",
      "\n",
      "      Education_Level Marital_Status Income_Category Card_Category  \\\n",
      "0         High School        Married     $60K - $80K          Blue   \n",
      "1            Graduate         Single  Less than $40K          Blue   \n",
      "2            Graduate        Married    $80K - $120K          Blue   \n",
      "3         High School        Unknown  Less than $40K          Blue   \n",
      "4          Uneducated        Married     $60K - $80K          Blue   \n",
      "...               ...            ...             ...           ...   \n",
      "10122        Graduate         Single     $40K - $60K          Blue   \n",
      "10123         Unknown       Divorced     $40K - $60K          Blue   \n",
      "10124     High School        Married  Less than $40K          Blue   \n",
      "10125        Graduate        Unknown     $40K - $60K          Blue   \n",
      "10126        Graduate        Married  Less than $40K        Silver   \n",
      "\n",
      "       Months_on_book  Total_Relationship_Count  Months_Inactive_12_mon  \\\n",
      "0                  39                         5                       1   \n",
      "1                  44                         6                       1   \n",
      "2                  36                         4                       1   \n",
      "3                  34                         3                       4   \n",
      "4                  21                         5                       1   \n",
      "...               ...                       ...                     ...   \n",
      "10122              40                         3                       2   \n",
      "10123              25                         4                       2   \n",
      "10124              36                         5                       3   \n",
      "10125              36                         4                       3   \n",
      "10126              25                         6                       2   \n",
      "\n",
      "       Contacts_Count_12_mon  Credit_Limit  Total_Revolving_Bal  \\\n",
      "0                          3       12691.0                  777   \n",
      "1                          2        8256.0                  864   \n",
      "2                          0        3418.0                    0   \n",
      "3                          1        3313.0                 2517   \n",
      "4                          0        4716.0                    0   \n",
      "...                      ...           ...                  ...   \n",
      "10122                      3        4003.0                 1851   \n",
      "10123                      3        4277.0                 2186   \n",
      "10124                      4        5409.0                    0   \n",
      "10125                      3        5281.0                    0   \n",
      "10126                      4       10388.0                 1961   \n",
      "\n",
      "       Avg_Open_To_Buy  Total_Amt_Chng_Q4_Q1  Total_Trans_Amt  Total_Trans_Ct  \\\n",
      "0              11914.0                 1.335             1144              42   \n",
      "1               7392.0                 1.541             1291              33   \n",
      "2               3418.0                 2.594             1887              20   \n",
      "3                796.0                 1.405             1171              20   \n",
      "4               4716.0                 2.175              816              28   \n",
      "...                ...                   ...              ...             ...   \n",
      "10122           2152.0                 0.703            15476             117   \n",
      "10123           2091.0                 0.804             8764              69   \n",
      "10124           5409.0                 0.819            10291              60   \n",
      "10125           5281.0                 0.535             8395              62   \n",
      "10126           8427.0                 0.703            10294              61   \n",
      "\n",
      "       Total_Ct_Chng_Q4_Q1  Avg_Utilization_Ratio  \\\n",
      "0                    1.625                  0.061   \n",
      "1                    3.714                  0.105   \n",
      "2                    2.333                  0.000   \n",
      "3                    2.333                  0.760   \n",
      "4                    2.500                  0.000   \n",
      "...                    ...                    ...   \n",
      "10122                0.857                  0.462   \n",
      "10123                0.683                  0.511   \n",
      "10124                0.818                  0.000   \n",
      "10125                0.722                  0.000   \n",
      "10126                0.649                  0.189   \n",
      "\n",
      "       Naive_Bayes_Classifier_Attrition_Flag_Card_Category_Contacts_Count_12_mon_Dependent_count_Education_Level_Months_Inactive_12_mon_1  \\\n",
      "0                                               0.000093                                                                                    \n",
      "1                                               0.000057                                                                                    \n",
      "2                                               0.000021                                                                                    \n",
      "3                                               0.000134                                                                                    \n",
      "4                                               0.000022                                                                                    \n",
      "...                                                  ...                                                                                    \n",
      "10122                                           0.000191                                                                                    \n",
      "10123                                           0.995270                                                                                    \n",
      "10124                                           0.997880                                                                                    \n",
      "10125                                           0.996710                                                                                    \n",
      "10126                                           0.996620                                                                                    \n",
      "\n",
      "       Naive_Bayes_Classifier_Attrition_Flag_Card_Category_Contacts_Count_12_mon_Dependent_count_Education_Level_Months_Inactive_12_mon_2  \n",
      "0                                               0.999910                                                                                   \n",
      "1                                               0.999940                                                                                   \n",
      "2                                               0.999980                                                                                   \n",
      "3                                               0.999870                                                                                   \n",
      "4                                               0.999980                                                                                   \n",
      "...                                                  ...                                                                                   \n",
      "10122                                           0.999810                                                                                   \n",
      "10123                                           0.004729                                                                                   \n",
      "10124                                           0.002118                                                                                   \n",
      "10125                                           0.003294                                                                                   \n",
      "10126                                           0.003377                                                                                   \n",
      "\n",
      "[10127 rows x 23 columns]\n"
     ]
    }
   ],
   "source": [
    "#Read the dataset\n",
    "filepath = r\"..\\Data\\BankChurners.csv\"\n",
    "data_df = pd.read_csv(filepath)\n",
    "print(data_df)"
   ]
  },
  {
   "cell_type": "code",
   "execution_count": 4,
   "metadata": {},
   "outputs": [],
   "source": [
    "# Dropping the last two column\n",
    "\n",
    "data_df.drop(['Naive_Bayes_Classifier_Attrition_Flag_Card_Category_Contacts_Count_12_mon_Dependent_count_Education_Level_Months_Inactive_12_mon_1', 'Naive_Bayes_Classifier_Attrition_Flag_Card_Category_Contacts_Count_12_mon_Dependent_count_Education_Level_Months_Inactive_12_mon_2'], axis=1, inplace=True)\n"
   ]
  },
  {
   "cell_type": "markdown",
   "metadata": {},
   "source": [
    "# Data Exploration Analysis\n"
   ]
  },
  {
   "cell_type": "code",
   "execution_count": 5,
   "metadata": {},
   "outputs": [
    {
     "data": {
      "text/html": [
       "<div>\n",
       "<style scoped>\n",
       "    .dataframe tbody tr th:only-of-type {\n",
       "        vertical-align: middle;\n",
       "    }\n",
       "\n",
       "    .dataframe tbody tr th {\n",
       "        vertical-align: top;\n",
       "    }\n",
       "\n",
       "    .dataframe thead th {\n",
       "        text-align: right;\n",
       "    }\n",
       "</style>\n",
       "<table border=\"1\" class=\"dataframe\">\n",
       "  <thead>\n",
       "    <tr style=\"text-align: right;\">\n",
       "      <th></th>\n",
       "      <th>CLIENTNUM</th>\n",
       "      <th>Attrition_Flag</th>\n",
       "      <th>Customer_Age</th>\n",
       "      <th>Gender</th>\n",
       "      <th>Dependent_count</th>\n",
       "      <th>Education_Level</th>\n",
       "      <th>Marital_Status</th>\n",
       "      <th>Income_Category</th>\n",
       "      <th>Card_Category</th>\n",
       "      <th>Months_on_book</th>\n",
       "      <th>Total_Relationship_Count</th>\n",
       "      <th>Months_Inactive_12_mon</th>\n",
       "      <th>Contacts_Count_12_mon</th>\n",
       "      <th>Credit_Limit</th>\n",
       "      <th>Total_Revolving_Bal</th>\n",
       "      <th>Avg_Open_To_Buy</th>\n",
       "      <th>Total_Amt_Chng_Q4_Q1</th>\n",
       "      <th>Total_Trans_Amt</th>\n",
       "      <th>Total_Trans_Ct</th>\n",
       "      <th>Total_Ct_Chng_Q4_Q1</th>\n",
       "      <th>Avg_Utilization_Ratio</th>\n",
       "    </tr>\n",
       "  </thead>\n",
       "  <tbody>\n",
       "    <tr>\n",
       "      <th>0</th>\n",
       "      <td>768805383</td>\n",
       "      <td>Existing Customer</td>\n",
       "      <td>45</td>\n",
       "      <td>M</td>\n",
       "      <td>3</td>\n",
       "      <td>High School</td>\n",
       "      <td>Married</td>\n",
       "      <td>$60K - $80K</td>\n",
       "      <td>Blue</td>\n",
       "      <td>39</td>\n",
       "      <td>5</td>\n",
       "      <td>1</td>\n",
       "      <td>3</td>\n",
       "      <td>12691.0</td>\n",
       "      <td>777</td>\n",
       "      <td>11914.0</td>\n",
       "      <td>1.335</td>\n",
       "      <td>1144</td>\n",
       "      <td>42</td>\n",
       "      <td>1.625</td>\n",
       "      <td>0.061</td>\n",
       "    </tr>\n",
       "    <tr>\n",
       "      <th>1</th>\n",
       "      <td>818770008</td>\n",
       "      <td>Existing Customer</td>\n",
       "      <td>49</td>\n",
       "      <td>F</td>\n",
       "      <td>5</td>\n",
       "      <td>Graduate</td>\n",
       "      <td>Single</td>\n",
       "      <td>Less than $40K</td>\n",
       "      <td>Blue</td>\n",
       "      <td>44</td>\n",
       "      <td>6</td>\n",
       "      <td>1</td>\n",
       "      <td>2</td>\n",
       "      <td>8256.0</td>\n",
       "      <td>864</td>\n",
       "      <td>7392.0</td>\n",
       "      <td>1.541</td>\n",
       "      <td>1291</td>\n",
       "      <td>33</td>\n",
       "      <td>3.714</td>\n",
       "      <td>0.105</td>\n",
       "    </tr>\n",
       "    <tr>\n",
       "      <th>2</th>\n",
       "      <td>713982108</td>\n",
       "      <td>Existing Customer</td>\n",
       "      <td>51</td>\n",
       "      <td>M</td>\n",
       "      <td>3</td>\n",
       "      <td>Graduate</td>\n",
       "      <td>Married</td>\n",
       "      <td>$80K - $120K</td>\n",
       "      <td>Blue</td>\n",
       "      <td>36</td>\n",
       "      <td>4</td>\n",
       "      <td>1</td>\n",
       "      <td>0</td>\n",
       "      <td>3418.0</td>\n",
       "      <td>0</td>\n",
       "      <td>3418.0</td>\n",
       "      <td>2.594</td>\n",
       "      <td>1887</td>\n",
       "      <td>20</td>\n",
       "      <td>2.333</td>\n",
       "      <td>0.000</td>\n",
       "    </tr>\n",
       "    <tr>\n",
       "      <th>3</th>\n",
       "      <td>769911858</td>\n",
       "      <td>Existing Customer</td>\n",
       "      <td>40</td>\n",
       "      <td>F</td>\n",
       "      <td>4</td>\n",
       "      <td>High School</td>\n",
       "      <td>Unknown</td>\n",
       "      <td>Less than $40K</td>\n",
       "      <td>Blue</td>\n",
       "      <td>34</td>\n",
       "      <td>3</td>\n",
       "      <td>4</td>\n",
       "      <td>1</td>\n",
       "      <td>3313.0</td>\n",
       "      <td>2517</td>\n",
       "      <td>796.0</td>\n",
       "      <td>1.405</td>\n",
       "      <td>1171</td>\n",
       "      <td>20</td>\n",
       "      <td>2.333</td>\n",
       "      <td>0.760</td>\n",
       "    </tr>\n",
       "    <tr>\n",
       "      <th>4</th>\n",
       "      <td>709106358</td>\n",
       "      <td>Existing Customer</td>\n",
       "      <td>40</td>\n",
       "      <td>M</td>\n",
       "      <td>3</td>\n",
       "      <td>Uneducated</td>\n",
       "      <td>Married</td>\n",
       "      <td>$60K - $80K</td>\n",
       "      <td>Blue</td>\n",
       "      <td>21</td>\n",
       "      <td>5</td>\n",
       "      <td>1</td>\n",
       "      <td>0</td>\n",
       "      <td>4716.0</td>\n",
       "      <td>0</td>\n",
       "      <td>4716.0</td>\n",
       "      <td>2.175</td>\n",
       "      <td>816</td>\n",
       "      <td>28</td>\n",
       "      <td>2.500</td>\n",
       "      <td>0.000</td>\n",
       "    </tr>\n",
       "  </tbody>\n",
       "</table>\n",
       "</div>"
      ],
      "text/plain": [
       "   CLIENTNUM     Attrition_Flag  Customer_Age Gender  Dependent_count  \\\n",
       "0  768805383  Existing Customer            45      M                3   \n",
       "1  818770008  Existing Customer            49      F                5   \n",
       "2  713982108  Existing Customer            51      M                3   \n",
       "3  769911858  Existing Customer            40      F                4   \n",
       "4  709106358  Existing Customer            40      M                3   \n",
       "\n",
       "  Education_Level Marital_Status Income_Category Card_Category  \\\n",
       "0     High School        Married     $60K - $80K          Blue   \n",
       "1        Graduate         Single  Less than $40K          Blue   \n",
       "2        Graduate        Married    $80K - $120K          Blue   \n",
       "3     High School        Unknown  Less than $40K          Blue   \n",
       "4      Uneducated        Married     $60K - $80K          Blue   \n",
       "\n",
       "   Months_on_book  Total_Relationship_Count  Months_Inactive_12_mon  \\\n",
       "0              39                         5                       1   \n",
       "1              44                         6                       1   \n",
       "2              36                         4                       1   \n",
       "3              34                         3                       4   \n",
       "4              21                         5                       1   \n",
       "\n",
       "   Contacts_Count_12_mon  Credit_Limit  Total_Revolving_Bal  Avg_Open_To_Buy  \\\n",
       "0                      3       12691.0                  777          11914.0   \n",
       "1                      2        8256.0                  864           7392.0   \n",
       "2                      0        3418.0                    0           3418.0   \n",
       "3                      1        3313.0                 2517            796.0   \n",
       "4                      0        4716.0                    0           4716.0   \n",
       "\n",
       "   Total_Amt_Chng_Q4_Q1  Total_Trans_Amt  Total_Trans_Ct  Total_Ct_Chng_Q4_Q1  \\\n",
       "0                 1.335             1144              42                1.625   \n",
       "1                 1.541             1291              33                3.714   \n",
       "2                 2.594             1887              20                2.333   \n",
       "3                 1.405             1171              20                2.333   \n",
       "4                 2.175              816              28                2.500   \n",
       "\n",
       "   Avg_Utilization_Ratio  \n",
       "0                  0.061  \n",
       "1                  0.105  \n",
       "2                  0.000  \n",
       "3                  0.760  \n",
       "4                  0.000  "
      ]
     },
     "execution_count": 5,
     "metadata": {},
     "output_type": "execute_result"
    }
   ],
   "source": [
    "data_df.head(5)"
   ]
  },
  {
   "cell_type": "code",
   "execution_count": 6,
   "metadata": {},
   "outputs": [
    {
     "name": "stdout",
     "output_type": "stream",
     "text": [
      "Number of rows:  10127\n"
     ]
    }
   ],
   "source": [
    "print('Number of rows: ', data_df.shape[0])"
   ]
  },
  {
   "cell_type": "code",
   "execution_count": 7,
   "metadata": {},
   "outputs": [
    {
     "name": "stdout",
     "output_type": "stream",
     "text": [
      "\n",
      "Number of features: 21\n"
     ]
    }
   ],
   "source": [
    "print(\"\\nNumber of features:\", data_df.shape[1])"
   ]
  },
  {
   "cell_type": "code",
   "execution_count": 8,
   "metadata": {},
   "outputs": [
    {
     "name": "stdout",
     "output_type": "stream",
     "text": [
      "\n",
      "Data Features:\n",
      "['CLIENTNUM', 'Attrition_Flag', 'Customer_Age', 'Gender', 'Dependent_count', 'Education_Level', 'Marital_Status', 'Income_Category', 'Card_Category', 'Months_on_book', 'Total_Relationship_Count', 'Months_Inactive_12_mon', 'Contacts_Count_12_mon', 'Credit_Limit', 'Total_Revolving_Bal', 'Avg_Open_To_Buy', 'Total_Amt_Chng_Q4_Q1', 'Total_Trans_Amt', 'Total_Trans_Ct', 'Total_Ct_Chng_Q4_Q1', 'Avg_Utilization_Ratio']\n"
     ]
    }
   ],
   "source": [
    "print(\"\\nData Features:\")\n",
    "print(data_df.columns.tolist())"
   ]
  },
  {
   "cell_type": "code",
   "execution_count": 9,
   "metadata": {},
   "outputs": [
    {
     "name": "stdout",
     "output_type": "stream",
     "text": [
      "\n",
      "Missing values: 0\n"
     ]
    }
   ],
   "source": [
    "print(\"\\nMissing values:\", data_df.isnull().sum().values.sum())"
   ]
  },
  {
   "cell_type": "code",
   "execution_count": 10,
   "metadata": {},
   "outputs": [
    {
     "name": "stdout",
     "output_type": "stream",
     "text": [
      "\n",
      "Unique values:\n",
      "CLIENTNUM                   10127\n",
      "Attrition_Flag                  2\n",
      "Customer_Age                   45\n",
      "Gender                          2\n",
      "Dependent_count                 6\n",
      "Education_Level                 7\n",
      "Marital_Status                  4\n",
      "Income_Category                 6\n",
      "Card_Category                   4\n",
      "Months_on_book                 44\n",
      "Total_Relationship_Count        6\n",
      "Months_Inactive_12_mon          7\n",
      "Contacts_Count_12_mon           7\n",
      "Credit_Limit                 6205\n",
      "Total_Revolving_Bal          1974\n",
      "Avg_Open_To_Buy              6813\n",
      "Total_Amt_Chng_Q4_Q1         1158\n",
      "Total_Trans_Amt              5033\n",
      "Total_Trans_Ct                126\n",
      "Total_Ct_Chng_Q4_Q1           830\n",
      "Avg_Utilization_Ratio         964\n",
      "dtype: int64\n"
     ]
    }
   ],
   "source": [
    "print(\"\\nUnique values:\")\n",
    "print(data_df.nunique())"
   ]
  },
  {
   "cell_type": "code",
   "execution_count": 11,
   "metadata": {},
   "outputs": [
    {
     "name": "stdout",
     "output_type": "stream",
     "text": [
      "\n",
      "Categorical variable:           Attrition_Flag Gender Education_Level Marital_Status  \\\n",
      "0      Existing Customer      M     High School        Married   \n",
      "1      Existing Customer      F        Graduate         Single   \n",
      "2      Existing Customer      M        Graduate        Married   \n",
      "3      Existing Customer      F     High School        Unknown   \n",
      "4      Existing Customer      M      Uneducated        Married   \n",
      "...                  ...    ...             ...            ...   \n",
      "10122  Existing Customer      M        Graduate         Single   \n",
      "10123  Attrited Customer      M         Unknown       Divorced   \n",
      "10124  Attrited Customer      F     High School        Married   \n",
      "10125  Attrited Customer      M        Graduate        Unknown   \n",
      "10126  Attrited Customer      F        Graduate        Married   \n",
      "\n",
      "      Income_Category Card_Category  \n",
      "0         $60K - $80K          Blue  \n",
      "1      Less than $40K          Blue  \n",
      "2        $80K - $120K          Blue  \n",
      "3      Less than $40K          Blue  \n",
      "4         $60K - $80K          Blue  \n",
      "...               ...           ...  \n",
      "10122     $40K - $60K          Blue  \n",
      "10123     $40K - $60K          Blue  \n",
      "10124  Less than $40K          Blue  \n",
      "10125     $40K - $60K          Blue  \n",
      "10126  Less than $40K        Silver  \n",
      "\n",
      "[10127 rows x 6 columns]\n"
     ]
    }
   ],
   "source": [
    "# Categorical variable in pandas dataframe \n",
    "print(\"\\nCategorical variable:\", data_df.select_dtypes(exclude=[np.number]))\n"
   ]
  },
  {
   "cell_type": "code",
   "execution_count": 12,
   "metadata": {},
   "outputs": [
    {
     "name": "stdout",
     "output_type": "stream",
     "text": [
      "\n",
      "Numeric_data:        CLIENTNUM  Customer_Age  Dependent_count  Months_on_book  \\\n",
      "0      768805383            45                3              39   \n",
      "1      818770008            49                5              44   \n",
      "2      713982108            51                3              36   \n",
      "3      769911858            40                4              34   \n",
      "4      709106358            40                3              21   \n",
      "...          ...           ...              ...             ...   \n",
      "10122  772366833            50                2              40   \n",
      "10123  710638233            41                2              25   \n",
      "10124  716506083            44                1              36   \n",
      "10125  717406983            30                2              36   \n",
      "10126  714337233            43                2              25   \n",
      "\n",
      "       Total_Relationship_Count  Months_Inactive_12_mon  \\\n",
      "0                             5                       1   \n",
      "1                             6                       1   \n",
      "2                             4                       1   \n",
      "3                             3                       4   \n",
      "4                             5                       1   \n",
      "...                         ...                     ...   \n",
      "10122                         3                       2   \n",
      "10123                         4                       2   \n",
      "10124                         5                       3   \n",
      "10125                         4                       3   \n",
      "10126                         6                       2   \n",
      "\n",
      "       Contacts_Count_12_mon  Credit_Limit  Total_Revolving_Bal  \\\n",
      "0                          3       12691.0                  777   \n",
      "1                          2        8256.0                  864   \n",
      "2                          0        3418.0                    0   \n",
      "3                          1        3313.0                 2517   \n",
      "4                          0        4716.0                    0   \n",
      "...                      ...           ...                  ...   \n",
      "10122                      3        4003.0                 1851   \n",
      "10123                      3        4277.0                 2186   \n",
      "10124                      4        5409.0                    0   \n",
      "10125                      3        5281.0                    0   \n",
      "10126                      4       10388.0                 1961   \n",
      "\n",
      "       Avg_Open_To_Buy  Total_Amt_Chng_Q4_Q1  Total_Trans_Amt  Total_Trans_Ct  \\\n",
      "0              11914.0                 1.335             1144              42   \n",
      "1               7392.0                 1.541             1291              33   \n",
      "2               3418.0                 2.594             1887              20   \n",
      "3                796.0                 1.405             1171              20   \n",
      "4               4716.0                 2.175              816              28   \n",
      "...                ...                   ...              ...             ...   \n",
      "10122           2152.0                 0.703            15476             117   \n",
      "10123           2091.0                 0.804             8764              69   \n",
      "10124           5409.0                 0.819            10291              60   \n",
      "10125           5281.0                 0.535             8395              62   \n",
      "10126           8427.0                 0.703            10294              61   \n",
      "\n",
      "       Total_Ct_Chng_Q4_Q1  Avg_Utilization_Ratio  \n",
      "0                    1.625                  0.061  \n",
      "1                    3.714                  0.105  \n",
      "2                    2.333                  0.000  \n",
      "3                    2.333                  0.760  \n",
      "4                    2.500                  0.000  \n",
      "...                    ...                    ...  \n",
      "10122                0.857                  0.462  \n",
      "10123                0.683                  0.511  \n",
      "10124                0.818                  0.000  \n",
      "10125                0.722                  0.000  \n",
      "10126                0.649                  0.189  \n",
      "\n",
      "[10127 rows x 15 columns]\n"
     ]
    }
   ],
   "source": [
    "print(\"\\nNumeric_data:\", data_df.select_dtypes(include=[np.number]))"
   ]
  },
  {
   "cell_type": "markdown",
   "metadata": {},
   "source": [
    "## Summarization\n",
    "There are 17 numerical features:\n",
    "\n",
    "- CLIENTNUM : Unique identifier for the customer holding the account\n",
    "- Customer_Age: Customer's Age in Years\n",
    "- Dependent_count: Number of dependents\n",
    "- Months_on_book: Period of relationship with bank\n",
    "- Total_Relationship_Count: Total number of products held by the customer\n",
    "- Months_Inactive_12_mon: Number of months inactive in the last 12 months\n",
    "- Contacts_Count_12_mon: Number of Contacts in the last 12 months\n",
    "- Credit_Limit:  Credit Limit on the Credit Card\n",
    "- Total_Revolving_Bal: The unpaid portion that carries over to the next month when a customer does not pay\n",
    "- Avg_Open_To_Buy: The average credit available allocated to a specific customer. (Average of last 12 months)\n",
    "- Total_Amt_Chng_Q4_Q1: Change in Transaction Amount (Q4 over Q1)\n",
    "- Total_Trans_Amt: Total Transaction Amount\n",
    "- Total_Trans_Ct: Total Transaction Count (Last 12 months)\n",
    "- Total_Ct_Chng_Q4_Q1: Change in Transaction Count (Q4 over Q1)\n",
    "- Avg_Utilization_Ratio: Measures how much credit you are using compared to how much you have available.\n",
    "\n",
    "\n",
    "There are 17 categorical features:\n",
    "\n",
    "- Attrition_Flag: Whether the customer is \"Existing Customer\" or \"Attrited Customer\" \n",
    "- Gender: Whether the customer is a M or a F\n",
    "- Education_Level: Whether the customer has 'High School' 'Graduate' 'Uneducated' 'Unknown' 'College' 'Post-Graduate', 'Doctorate' qualification. \n",
    "- Marital_Status: Whether the customer is 'Married' 'Single' 'Unknown' 'Divorced'\n",
    "- Income_Category: Whether the customer earn '$60K - $80K' 'Less than $40K' '$80K - $120K' '$40K - $60K' '$120K +','Unknown'\n",
    "- Card_Category: Whther the customer hold 'Blue' 'Gold' 'Silver' 'Platinum' card\n"
   ]
  },
  {
   "cell_type": "markdown",
   "metadata": {},
   "source": [
    "## Target Variable Exploration \n"
   ]
  },
  {
   "cell_type": "code",
   "execution_count": 25,
   "metadata": {},
   "outputs": [
    {
     "data": {
      "image/png": "[encoded data removed]",
      "text/plain": [
       "<Figure size 432x288 with 1 Axes>"
      ]
     },
     "metadata": {},
     "output_type": "display_data"
    }
   ],
   "source": [
    "target_instance = data_df.groupby('Attrition_Flag').size().plot(kind='pie', autopct='%.2f',colors=['violet', 'lime'])"
   ]
  }
 ],
 "metadata": {
  "kernelspec": {
   "display_name": "Python 3.10.1 ('venv': venv)",
   "language": "python",
   "name": "python3"
  },
  "language_info": {
   "codemirror_mode": {
    "name": "ipython",
    "version": 3
   },
   "file_extension": ".py",
   "mimetype": "text/x-python",
   "name": "python",
   "nbconvert_exporter": "python",
   "pygments_lexer": "ipython3",
   "version": "3.10.1"
  },
  "orig_nbformat": 4,
  "vscode": {
   "interpreter": {
    "hash": "22be7a2ab930353a9743abdc4694e256a42ba072cdf347f681dd64642cd62fc5"
   }
  }
 },
 "nbformat": 4,
 "nbformat_minor": 2
}
